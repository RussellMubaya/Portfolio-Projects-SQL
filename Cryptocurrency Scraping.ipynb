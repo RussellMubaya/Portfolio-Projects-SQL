{
 "cells": [
  {
   "cell_type": "markdown",
   "id": "9c8556ec",
   "metadata": {},
   "source": [
    "Imports\n",
    "\n"
   ]
  },
  {
   "cell_type": "code",
   "execution_count": 4,
   "id": "5def7799",
   "metadata": {},
   "outputs": [],
   "source": [
    "from bs4 import BeautifulSoup\n",
    "import requests\n",
    "import pandas as pd\n",
    "\n",
    "\n",
    "       "
   ]
  },
  {
   "cell_type": "markdown",
   "id": "f2ae52c9",
   "metadata": {},
   "source": [
    "HTTP Request\n",
    " "
   ]
  },
  {
   "cell_type": "code",
   "execution_count": 5,
   "id": "273772c6",
   "metadata": {},
   "outputs": [],
   "source": [
    "# store website in variable\n",
    "website = 'https://www.coingecko.com/en'"
   ]
  },
  {
   "cell_type": "code",
   "execution_count": 6,
   "id": "2be27712",
   "metadata": {},
   "outputs": [],
   "source": [
    "# Get request\n",
    "response = requests.get(website)"
   ]
  },
  {
   "cell_type": "code",
   "execution_count": 7,
   "id": "cc4dc2f5",
   "metadata": {},
   "outputs": [
    {
     "data": {
      "text/plain": [
       "200"
      ]
     },
     "execution_count": 7,
     "metadata": {},
     "output_type": "execute_result"
    }
   ],
   "source": [
    "# Status Code\n",
    "response.status_code"
   ]
  },
  {
   "cell_type": "markdown",
   "id": "50334f29",
   "metadata": {},
   "source": [
    "Soup Object"
   ]
  },
  {
   "cell_type": "code",
   "execution_count": 8,
   "id": "38afb36d",
   "metadata": {},
   "outputs": [],
   "source": [
    "soup = BeautifulSoup(response.content, 'html.parser')"
   ]
  },
  {
   "cell_type": "code",
   "execution_count": null,
   "id": "25998b85",
   "metadata": {},
   "outputs": [],
   "source": [
    "soup"
   ]
  },
  {
   "cell_type": "markdown",
   "id": "94972a33",
   "metadata": {},
   "source": [
    "Results"
   ]
  },
  {
   "cell_type": "code",
   "execution_count": 10,
   "id": "aab91ed7",
   "metadata": {},
   "outputs": [],
   "source": [
    "results = soup.find('table',{'class': 'table-scrollable'}).find('tbody').find_all('tr')"
   ]
  },
  {
   "cell_type": "code",
   "execution_count": 11,
   "id": "0a58f550",
   "metadata": {},
   "outputs": [
    {
     "data": {
      "text/plain": [
       "100"
      ]
     },
     "execution_count": 11,
     "metadata": {},
     "output_type": "execute_result"
    }
   ],
   "source": [
    "len(results)"
   ]
  },
  {
   "cell_type": "markdown",
   "id": "3ec87528",
   "metadata": {},
   "source": [
    "Target necessary data"
   ]
  },
  {
   "cell_type": "code",
   "execution_count": 12,
   "id": "89f45830",
   "metadata": {},
   "outputs": [],
   "source": [
    "# Name\n",
    "# Price\n",
    "# 1h Change\n",
    "# 24h Change\n",
    "# 7 day change\n",
    "# 24h Volume\n",
    "# Market Cap"
   ]
  },
  {
   "cell_type": "markdown",
   "id": "c3669590",
   "metadata": {},
   "source": [
    "Name"
   ]
  },
  {
   "cell_type": "code",
   "execution_count": 13,
   "id": "4038ae07",
   "metadata": {},
   "outputs": [
    {
     "data": {
      "text/plain": [
       "'Bitcoin'"
      ]
     },
     "execution_count": 13,
     "metadata": {},
     "output_type": "execute_result"
    }
   ],
   "source": [
    "results[0].find('a', {'class': 'tw-hidden lg:tw-flex font-bold tw-items-center tw-justify-between'}).get_text().strip()"
   ]
  },
  {
   "cell_type": "markdown",
   "id": "36a396a8",
   "metadata": {},
   "source": [
    "Price"
   ]
  },
  {
   "cell_type": "code",
   "execution_count": 14,
   "id": "3f208ee3",
   "metadata": {},
   "outputs": [
    {
     "data": {
      "text/plain": [
       "'$42,286'"
      ]
     },
     "execution_count": 14,
     "metadata": {},
     "output_type": "execute_result"
    }
   ],
   "source": [
    "results[0].find('td', {'class': 'td-price'}).get_text().strip()"
   ]
  },
  {
   "cell_type": "markdown",
   "id": "9188bde7",
   "metadata": {},
   "source": [
    " 1hr Change"
   ]
  },
  {
   "cell_type": "code",
   "execution_count": 15,
   "id": "8f633dc0",
   "metadata": {},
   "outputs": [
    {
     "data": {
      "text/plain": [
       "'0.1%'"
      ]
     },
     "execution_count": 15,
     "metadata": {},
     "output_type": "execute_result"
    }
   ],
   "source": [
    "results[0].find('td', {'class': 'td-change1h'}).get_text().strip()"
   ]
  },
  {
   "cell_type": "markdown",
   "id": "4325441b",
   "metadata": {},
   "source": [
    "24hr Change"
   ]
  },
  {
   "cell_type": "code",
   "execution_count": 16,
   "id": "1d351d2a",
   "metadata": {},
   "outputs": [
    {
     "data": {
      "text/plain": [
       "'-2.5%'"
      ]
     },
     "execution_count": 16,
     "metadata": {},
     "output_type": "execute_result"
    }
   ],
   "source": [
    "results[0].find('td', {'class': 'td-change24h'}).get_text().strip()"
   ]
  },
  {
   "cell_type": "markdown",
   "id": "9de32e5b",
   "metadata": {},
   "source": [
    "7 day change"
   ]
  },
  {
   "cell_type": "code",
   "execution_count": 17,
   "id": "ab8cf993",
   "metadata": {},
   "outputs": [
    {
     "data": {
      "text/plain": [
       "'-6.3%'"
      ]
     },
     "execution_count": 17,
     "metadata": {},
     "output_type": "execute_result"
    }
   ],
   "source": [
    "results[0].find('td', {'class': 'td-change7d'}).get_text().strip()"
   ]
  },
  {
   "cell_type": "markdown",
   "id": "cd6d7d92",
   "metadata": {},
   "source": [
    "24hr Volume"
   ]
  },
  {
   "cell_type": "code",
   "execution_count": 18,
   "id": "32c99383",
   "metadata": {},
   "outputs": [
    {
     "data": {
      "text/plain": [
       "'$42,997,654,630'"
      ]
     },
     "execution_count": 18,
     "metadata": {},
     "output_type": "execute_result"
    }
   ],
   "source": [
    "results[0].find('td', {'class': 'td-liquidity_score'}).get_text().strip()"
   ]
  },
  {
   "cell_type": "markdown",
   "id": "048e6d80",
   "metadata": {},
   "source": [
    "Market Cap"
   ]
  },
  {
   "cell_type": "code",
   "execution_count": 19,
   "id": "d192c2a4",
   "metadata": {},
   "outputs": [
    {
     "data": {
      "text/plain": [
       "'$796,067,249,516'"
      ]
     },
     "execution_count": 19,
     "metadata": {},
     "output_type": "execute_result"
    }
   ],
   "source": [
    " results[0].find('td', {'class': 'td-market_cap'}).get_text().strip()"
   ]
  },
  {
   "cell_type": "markdown",
   "id": "fa3d09d7",
   "metadata": {},
   "source": [
    "Put everything together in a for loop"
   ]
  },
  {
   "cell_type": "code",
   "execution_count": 20,
   "id": "dc489dfb",
   "metadata": {},
   "outputs": [],
   "source": [
    "# empty lists\n",
    "name = []\n",
    "price = []\n",
    "change_1h = []\n",
    "change_24h = []\n",
    "change_7d = []\n",
    "volume_24h = []\n",
    "market_cap = []\n",
    "\n",
    "for result in results:\n",
    "    # name\n",
    "    try:\n",
    "        name.append(result.find('a', {'class': 'tw-hidden lg:tw-flex font-bold tw-items-center tw-justify-between'}).get_text().strip())\n",
    "    except:\n",
    "        name.append('n/a')\n",
    "        \n",
    "    # price\n",
    "    try:\n",
    "        price.append(result.find('td', {'class':'td-price'}).get_text().strip())\n",
    "    except:\n",
    "        price.append('n/a')\n",
    "        \n",
    "    # change 1h\n",
    "    try:\n",
    "        change_1h.append(result.find('td', {'class':'td-change1h'}).get_text().strip())\n",
    "    except:\n",
    "        change_1h.append('n/a')\n",
    "        \n",
    "    # change 24h\n",
    "    try:\n",
    "        change_24h.append(result.find('td', {'class':'td-change24h'}).get_text().strip())\n",
    "    except:\n",
    "        change_24h.append('n/a')\n",
    "        \n",
    "    # change 7d\n",
    "    try:\n",
    "        change_7d.append(result.find('td', {'class':'td-change7d'}).get_text().strip())\n",
    "    except:\n",
    "        change_7d.append('n/a')\n",
    "        \n",
    "    #volume 24h\n",
    "    try:\n",
    "        volume_24h.append(result.find('td', {'class':'td-liquidity_score'}).get_text().strip())\n",
    "    except:\n",
    "        volume_24h.append('n/a')\n",
    "        \n",
    "    # market cap\n",
    "    try:\n",
    "        market_cap.append(result.find('td', {'class':'td-market_cap'}).get_text().strip())\n",
    "    except:\n",
    "        market_cap.append('n/a')\n",
    "    \n",
    "\n",
    "  \n",
    " \n",
    "                         \n",
    "\n",
    "    \n",
    "   "
   ]
  },
  {
   "cell_type": "markdown",
   "id": "634bd7af",
   "metadata": {},
   "source": [
    "Create Pandas Dataframe"
   ]
  },
  {
   "cell_type": "code",
   "execution_count": 21,
   "id": "a760f21f",
   "metadata": {},
   "outputs": [],
   "source": [
    "crypto_df = pd.DataFrame({'Coin': name, 'Price': price, 'Change_1h': change_1h, 'Change_24h':change_24h, 'Change_7d': change_7d, 'Volume_24h': volume_24h, 'Markt Cap': market_cap})"
   ]
  },
  {
   "cell_type": "code",
   "execution_count": 22,
   "id": "1f8582c5",
   "metadata": {},
   "outputs": [
    {
     "data": {
      "text/html": [
       "<div>\n",
       "<style scoped>\n",
       "    .dataframe tbody tr th:only-of-type {\n",
       "        vertical-align: middle;\n",
       "    }\n",
       "\n",
       "    .dataframe tbody tr th {\n",
       "        vertical-align: top;\n",
       "    }\n",
       "\n",
       "    .dataframe thead th {\n",
       "        text-align: right;\n",
       "    }\n",
       "</style>\n",
       "<table border=\"1\" class=\"dataframe\">\n",
       "  <thead>\n",
       "    <tr style=\"text-align: right;\">\n",
       "      <th></th>\n",
       "      <th>Coin</th>\n",
       "      <th>Price</th>\n",
       "      <th>Change_1h</th>\n",
       "      <th>Change_24h</th>\n",
       "      <th>Change_7d</th>\n",
       "      <th>Volume_24h</th>\n",
       "      <th>Markt Cap</th>\n",
       "    </tr>\n",
       "  </thead>\n",
       "  <tbody>\n",
       "    <tr>\n",
       "      <th>0</th>\n",
       "      <td>Bitcoin</td>\n",
       "      <td>$42,286</td>\n",
       "      <td>0.1%</td>\n",
       "      <td>-2.5%</td>\n",
       "      <td>-6.3%</td>\n",
       "      <td>$42,997,654,630</td>\n",
       "      <td>$796,067,249,516</td>\n",
       "    </tr>\n",
       "    <tr>\n",
       "      <th>1</th>\n",
       "      <td>Ethereum</td>\n",
       "      <td>$2,909.82</td>\n",
       "      <td>-0.4%</td>\n",
       "      <td>-3.6%</td>\n",
       "      <td>-11.9%</td>\n",
       "      <td>$29,449,024,116</td>\n",
       "      <td>$342,307,212,109</td>\n",
       "    </tr>\n",
       "    <tr>\n",
       "      <th>2</th>\n",
       "      <td>Tether</td>\n",
       "      <td>$1.00</td>\n",
       "      <td>-0.1%</td>\n",
       "      <td>0.0%</td>\n",
       "      <td>-0.2%</td>\n",
       "      <td>$81,510,492,567</td>\n",
       "      <td>$69,748,586,911</td>\n",
       "    </tr>\n",
       "    <tr>\n",
       "      <th>3</th>\n",
       "      <td>Cardano</td>\n",
       "      <td>$2.06</td>\n",
       "      <td>-0.7%</td>\n",
       "      <td>-0.3%</td>\n",
       "      <td>-14.8%</td>\n",
       "      <td>$5,289,915,471</td>\n",
       "      <td>$66,177,564,162</td>\n",
       "    </tr>\n",
       "    <tr>\n",
       "      <th>4</th>\n",
       "      <td>Binance Coin</td>\n",
       "      <td>$359.95</td>\n",
       "      <td>-0.3%</td>\n",
       "      <td>-1.4%</td>\n",
       "      <td>-10.2%</td>\n",
       "      <td>$1,768,913,019</td>\n",
       "      <td>$55,630,319,893</td>\n",
       "    </tr>\n",
       "    <tr>\n",
       "      <th>...</th>\n",
       "      <td>...</td>\n",
       "      <td>...</td>\n",
       "      <td>...</td>\n",
       "      <td>...</td>\n",
       "      <td>...</td>\n",
       "      <td>...</td>\n",
       "      <td>...</td>\n",
       "    </tr>\n",
       "    <tr>\n",
       "      <th>95</th>\n",
       "      <td>ICON</td>\n",
       "      <td>$1.55</td>\n",
       "      <td>-0.8%</td>\n",
       "      <td>-5.5%</td>\n",
       "      <td>-20.0%</td>\n",
       "      <td>$86,837,277</td>\n",
       "      <td>$1,024,543,701</td>\n",
       "    </tr>\n",
       "    <tr>\n",
       "      <th>96</th>\n",
       "      <td>Osmosis</td>\n",
       "      <td>$5.44</td>\n",
       "      <td>-1.1%</td>\n",
       "      <td>-9.5%</td>\n",
       "      <td>-16.7%</td>\n",
       "      <td>$8,108,205</td>\n",
       "      <td>$964,021,980</td>\n",
       "    </tr>\n",
       "    <tr>\n",
       "      <th>97</th>\n",
       "      <td>Bitcoin Gold</td>\n",
       "      <td>$54.61</td>\n",
       "      <td>-0.7%</td>\n",
       "      <td>-2.7%</td>\n",
       "      <td>-16.7%</td>\n",
       "      <td>$42,696,089</td>\n",
       "      <td>$956,560,942</td>\n",
       "    </tr>\n",
       "    <tr>\n",
       "      <th>98</th>\n",
       "      <td>Basic Attention Token</td>\n",
       "      <td>$0.641143</td>\n",
       "      <td>-0.4%</td>\n",
       "      <td>-1.8%</td>\n",
       "      <td>-15.2%</td>\n",
       "      <td>$138,968,037</td>\n",
       "      <td>$956,004,211</td>\n",
       "    </tr>\n",
       "    <tr>\n",
       "      <th>99</th>\n",
       "      <td>Curve DAO Token</td>\n",
       "      <td>$2.37</td>\n",
       "      <td>-0.2%</td>\n",
       "      <td>-1.0%</td>\n",
       "      <td>-0.1%</td>\n",
       "      <td>$332,760,433</td>\n",
       "      <td>$955,251,647</td>\n",
       "    </tr>\n",
       "  </tbody>\n",
       "</table>\n",
       "<p>100 rows × 7 columns</p>\n",
       "</div>"
      ],
      "text/plain": [
       "                     Coin      Price Change_1h Change_24h Change_7d  \\\n",
       "0                 Bitcoin    $42,286      0.1%      -2.5%     -6.3%   \n",
       "1                Ethereum  $2,909.82     -0.4%      -3.6%    -11.9%   \n",
       "2                  Tether      $1.00     -0.1%       0.0%     -0.2%   \n",
       "3                 Cardano      $2.06     -0.7%      -0.3%    -14.8%   \n",
       "4            Binance Coin    $359.95     -0.3%      -1.4%    -10.2%   \n",
       "..                    ...        ...       ...        ...       ...   \n",
       "95                   ICON      $1.55     -0.8%      -5.5%    -20.0%   \n",
       "96                Osmosis      $5.44     -1.1%      -9.5%    -16.7%   \n",
       "97           Bitcoin Gold     $54.61     -0.7%      -2.7%    -16.7%   \n",
       "98  Basic Attention Token  $0.641143     -0.4%      -1.8%    -15.2%   \n",
       "99        Curve DAO Token      $2.37     -0.2%      -1.0%     -0.1%   \n",
       "\n",
       "         Volume_24h         Markt Cap  \n",
       "0   $42,997,654,630  $796,067,249,516  \n",
       "1   $29,449,024,116  $342,307,212,109  \n",
       "2   $81,510,492,567   $69,748,586,911  \n",
       "3    $5,289,915,471   $66,177,564,162  \n",
       "4    $1,768,913,019   $55,630,319,893  \n",
       "..              ...               ...  \n",
       "95      $86,837,277    $1,024,543,701  \n",
       "96       $8,108,205      $964,021,980  \n",
       "97      $42,696,089      $956,560,942  \n",
       "98     $138,968,037      $956,004,211  \n",
       "99     $332,760,433      $955,251,647  \n",
       "\n",
       "[100 rows x 7 columns]"
      ]
     },
     "execution_count": 22,
     "metadata": {},
     "output_type": "execute_result"
    }
   ],
   "source": [
    "#output dataframe\n",
    "crypto_df"
   ]
  },
  {
   "cell_type": "markdown",
   "id": "04d04c46",
   "metadata": {},
   "source": [
    "Output in Excel"
   ]
  },
  {
   "cell_type": "code",
   "execution_count": 23,
   "id": "d54cd5f9",
   "metadata": {},
   "outputs": [],
   "source": [
    "crypto_df.to_excel('single_page_crypto.xlsx', index=False)"
   ]
  },
  {
   "cell_type": "code",
   "execution_count": null,
   "id": "84b11dd6",
   "metadata": {},
   "outputs": [],
   "source": [
    " "
   ]
  },
  {
   "cell_type": "markdown",
   "id": "379ad9d0",
   "metadata": {},
   "source": [
    "Part 2 - Pagination - Get 1000 Results"
   ]
  },
  {
   "cell_type": "code",
   "execution_count": 24,
   "id": "c3c6bdef",
   "metadata": {},
   "outputs": [],
   "source": [
    "# empty lists\n",
    "name = []\n",
    "price = []\n",
    "change_1h = []\n",
    "change_24h = []\n",
    "change_7d = []\n",
    "volume_24h = []\n",
    "market_cap = []\n",
    "\n",
    "\n",
    "for i in range(1, 11):\n",
    "    #website\n",
    "    website = 'https://www.coingecko.com/en?page='+ str(i)\n",
    "    \n",
    "    #request to website\n",
    "    response = requests.get(website)\n",
    "    \n",
    "    # soup object\n",
    "    soup = BeautifulSoup(response.content, 'html.parser')\n",
    "    \n",
    "    # storing results in a table\n",
    "    results = soup.find('table',{'class': 'table-scrollable'}).find('tbody').find_all('tr')\n",
    "    \n",
    "    for result in results:\n",
    "        # name\n",
    "        try:\n",
    "            name.append(result.find('a', {'class': 'tw-hidden lg:tw-flex font-bold tw-items-center tw-justify-between'}).get_text().strip())\n",
    "        except:\n",
    "            name.append('n/a')\n",
    "\n",
    "        # price\n",
    "        try:\n",
    "            price.append(result.find('td', {'class':'td-price'}).get_text().strip())\n",
    "        except:\n",
    "            price.append('n/a')\n",
    "\n",
    "        # change 1h\n",
    "        try:\n",
    "            change_1h.append(result.find('td', {'class':'td-change1h'}).get_text().strip())\n",
    "        except:\n",
    "            change_1h.append('n/a')\n",
    "\n",
    "        # change 24h\n",
    "        try:\n",
    "            change_24h.append(result.find('td', {'class':'td-change24h'}).get_text().strip())\n",
    "        except:\n",
    "            change_24h.append('n/a')\n",
    "\n",
    "        # change 7d\n",
    "        try:\n",
    "            change_7d.append(result.find('td', {'class':'td-change7d'}).get_text().strip())\n",
    "        except:\n",
    "            change_7d.append('n/a')\n",
    "\n",
    "        #volume 24h\n",
    "        try:\n",
    "            volume_24h.append(result.find('td', {'class':'td-liquidity_score'}).get_text().strip())\n",
    "        except:\n",
    "            volume_24h.append('n/a')\n",
    "\n",
    "        # market cap\n",
    "        try:\n",
    "            market_cap.append(result.find('td', {'class':'td-market_cap'}).get_text().strip())\n",
    "        except:\n",
    "            market_cap.append('n/a')\n",
    "\n",
    "\n"
   ]
  },
  {
   "cell_type": "code",
   "execution_count": 25,
   "id": "7670a182",
   "metadata": {},
   "outputs": [],
   "source": [
    "crypto_df = pd.DataFrame({'Coin': name, 'Price': price, 'Change_1h': change_1h, 'Change_24h':change_24h, 'Change_7d': change_7d, 'Volume_24h': volume_24h, 'Markt Cap': market_cap})"
   ]
  },
  {
   "cell_type": "code",
   "execution_count": 26,
   "id": "1e3d8c83",
   "metadata": {},
   "outputs": [
    {
     "data": {
      "text/html": [
       "<div>\n",
       "<style scoped>\n",
       "    .dataframe tbody tr th:only-of-type {\n",
       "        vertical-align: middle;\n",
       "    }\n",
       "\n",
       "    .dataframe tbody tr th {\n",
       "        vertical-align: top;\n",
       "    }\n",
       "\n",
       "    .dataframe thead th {\n",
       "        text-align: right;\n",
       "    }\n",
       "</style>\n",
       "<table border=\"1\" class=\"dataframe\">\n",
       "  <thead>\n",
       "    <tr style=\"text-align: right;\">\n",
       "      <th></th>\n",
       "      <th>Coin</th>\n",
       "      <th>Price</th>\n",
       "      <th>Change_1h</th>\n",
       "      <th>Change_24h</th>\n",
       "      <th>Change_7d</th>\n",
       "      <th>Volume_24h</th>\n",
       "      <th>Markt Cap</th>\n",
       "    </tr>\n",
       "  </thead>\n",
       "  <tbody>\n",
       "    <tr>\n",
       "      <th>0</th>\n",
       "      <td>Bitcoin</td>\n",
       "      <td>$42,270</td>\n",
       "      <td>0.0%</td>\n",
       "      <td>-2.5%</td>\n",
       "      <td>-6.4%</td>\n",
       "      <td>$42,964,089,260</td>\n",
       "      <td>$796,067,249,516</td>\n",
       "    </tr>\n",
       "    <tr>\n",
       "      <th>1</th>\n",
       "      <td>Ethereum</td>\n",
       "      <td>$2,909.21</td>\n",
       "      <td>-0.4%</td>\n",
       "      <td>-3.6%</td>\n",
       "      <td>-11.9%</td>\n",
       "      <td>$29,408,305,839</td>\n",
       "      <td>$342,307,212,109</td>\n",
       "    </tr>\n",
       "    <tr>\n",
       "      <th>2</th>\n",
       "      <td>Tether</td>\n",
       "      <td>$1.00</td>\n",
       "      <td>-0.1%</td>\n",
       "      <td>0.0%</td>\n",
       "      <td>-0.2%</td>\n",
       "      <td>$81,510,492,567</td>\n",
       "      <td>$69,748,586,911</td>\n",
       "    </tr>\n",
       "    <tr>\n",
       "      <th>3</th>\n",
       "      <td>Cardano</td>\n",
       "      <td>$2.06</td>\n",
       "      <td>-0.7%</td>\n",
       "      <td>-0.3%</td>\n",
       "      <td>-14.8%</td>\n",
       "      <td>$5,289,915,471</td>\n",
       "      <td>$66,177,564,162</td>\n",
       "    </tr>\n",
       "    <tr>\n",
       "      <th>4</th>\n",
       "      <td>Binance Coin</td>\n",
       "      <td>$359.86</td>\n",
       "      <td>-0.3%</td>\n",
       "      <td>-1.4%</td>\n",
       "      <td>-10.2%</td>\n",
       "      <td>$1,765,098,464</td>\n",
       "      <td>$55,630,319,893</td>\n",
       "    </tr>\n",
       "    <tr>\n",
       "      <th>...</th>\n",
       "      <td>...</td>\n",
       "      <td>...</td>\n",
       "      <td>...</td>\n",
       "      <td>...</td>\n",
       "      <td>...</td>\n",
       "      <td>...</td>\n",
       "      <td>...</td>\n",
       "    </tr>\n",
       "    <tr>\n",
       "      <th>995</th>\n",
       "      <td>Wault Finance (OLD)</td>\n",
       "      <td>$14.85</td>\n",
       "      <td>?</td>\n",
       "      <td>?</td>\n",
       "      <td>?</td>\n",
       "      <td>?</td>\n",
       "      <td>$11,552,017</td>\n",
       "    </tr>\n",
       "    <tr>\n",
       "      <th>996</th>\n",
       "      <td>SideShift Token</td>\n",
       "      <td>$0.283006</td>\n",
       "      <td>-1.7%</td>\n",
       "      <td>7.2%</td>\n",
       "      <td>12.1%</td>\n",
       "      <td>$64,764</td>\n",
       "      <td>$11,504,264</td>\n",
       "    </tr>\n",
       "    <tr>\n",
       "      <th>997</th>\n",
       "      <td>DEFI Top 5 Index</td>\n",
       "      <td>$77.77</td>\n",
       "      <td>0.2%</td>\n",
       "      <td>-3.0%</td>\n",
       "      <td>-7.8%</td>\n",
       "      <td>$223,838</td>\n",
       "      <td>$11,490,287</td>\n",
       "    </tr>\n",
       "    <tr>\n",
       "      <th>998</th>\n",
       "      <td>Ubiq</td>\n",
       "      <td>$0.245269</td>\n",
       "      <td>-0.8%</td>\n",
       "      <td>-8.9%</td>\n",
       "      <td>-9.9%</td>\n",
       "      <td>$36,535</td>\n",
       "      <td>$11,413,335</td>\n",
       "    </tr>\n",
       "    <tr>\n",
       "      <th>999</th>\n",
       "      <td>XMax</td>\n",
       "      <td>$0.000422180359</td>\n",
       "      <td>-0.2%</td>\n",
       "      <td>-1.5%</td>\n",
       "      <td>-8.4%</td>\n",
       "      <td>$696,716</td>\n",
       "      <td>$11,383,382</td>\n",
       "    </tr>\n",
       "  </tbody>\n",
       "</table>\n",
       "<p>1000 rows × 7 columns</p>\n",
       "</div>"
      ],
      "text/plain": [
       "                    Coin            Price Change_1h Change_24h Change_7d  \\\n",
       "0                Bitcoin          $42,270      0.0%      -2.5%     -6.4%   \n",
       "1               Ethereum        $2,909.21     -0.4%      -3.6%    -11.9%   \n",
       "2                 Tether            $1.00     -0.1%       0.0%     -0.2%   \n",
       "3                Cardano            $2.06     -0.7%      -0.3%    -14.8%   \n",
       "4           Binance Coin          $359.86     -0.3%      -1.4%    -10.2%   \n",
       "..                   ...              ...       ...        ...       ...   \n",
       "995  Wault Finance (OLD)           $14.85         ?          ?         ?   \n",
       "996      SideShift Token        $0.283006     -1.7%       7.2%     12.1%   \n",
       "997     DEFI Top 5 Index           $77.77      0.2%      -3.0%     -7.8%   \n",
       "998                 Ubiq        $0.245269     -0.8%      -8.9%     -9.9%   \n",
       "999                 XMax  $0.000422180359     -0.2%      -1.5%     -8.4%   \n",
       "\n",
       "          Volume_24h         Markt Cap  \n",
       "0    $42,964,089,260  $796,067,249,516  \n",
       "1    $29,408,305,839  $342,307,212,109  \n",
       "2    $81,510,492,567   $69,748,586,911  \n",
       "3     $5,289,915,471   $66,177,564,162  \n",
       "4     $1,765,098,464   $55,630,319,893  \n",
       "..               ...               ...  \n",
       "995                ?       $11,552,017  \n",
       "996          $64,764       $11,504,264  \n",
       "997         $223,838       $11,490,287  \n",
       "998          $36,535       $11,413,335  \n",
       "999         $696,716       $11,383,382  \n",
       "\n",
       "[1000 rows x 7 columns]"
      ]
     },
     "execution_count": 26,
     "metadata": {},
     "output_type": "execute_result"
    }
   ],
   "source": [
    "crypto_df"
   ]
  },
  {
   "cell_type": "code",
   "execution_count": 27,
   "id": "c3bddb59",
   "metadata": {},
   "outputs": [],
   "source": [
    "crypto_df.to_excel('multiple_page_crypto.xlsx', index=False)"
   ]
  },
  {
   "cell_type": "code",
   "execution_count": null,
   "id": "e257bf71",
   "metadata": {},
   "outputs": [],
   "source": []
  }
 ],
 "metadata": {
  "kernelspec": {
   "display_name": "Python 3",
   "language": "python",
   "name": "python3"
  },
  "language_info": {
   "codemirror_mode": {
    "name": "ipython",
    "version": 3
   },
   "file_extension": ".py",
   "mimetype": "text/x-python",
   "name": "python",
   "nbconvert_exporter": "python",
   "pygments_lexer": "ipython3",
   "version": "3.8.8"
  }
 },
 "nbformat": 4,
 "nbformat_minor": 5
}
